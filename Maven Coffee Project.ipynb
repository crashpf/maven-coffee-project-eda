{
 "cells": [
  {
   "cell_type": "markdown",
   "id": "8635136a-0123-4f7f-9093-db90a3a08711",
   "metadata": {},
   "source": [
    "# Maven Roasters Coffee Sales"
   ]
  },
  {
   "cell_type": "markdown",
   "id": "921d74023c3c73ae",
   "metadata": {},
   "source": [
    "##  Table of Contents\n",
    "* 1. [Libraries](#1)\n",
    "* 2. [Dataset](#2)\n",
    "      * 2.1 [Loading the dataset](#2.1)\n",
    "      * 2.2 [Checking for NA values and duplicates](#2.2)\n",
    "      * 2.3 [Unique Values](#2.3)\n",
    "* 3. [Feature Engineering](#3)\n",
    "      * 3.1 [Transforming date and time variables to datetime](#3.1)\n",
    "      * 3.2 [Creating 3 more variables: transaction_day, transaction_month, transaction_year](#3.2)\n",
    "      * 3.3 [Creating 3 more variables: transaction_hour, transaction_minute, transaction_second](#3.3)\n",
    "      * 3.4 [Total Revenue per Transaction](#3.4)\n",
    "* 4. [Exploratory Data Analysis](#4)\n",
    "      * 4.1 [Descriptive Statistics](#4.1)\n",
    "      * 4.2 [Transactions by Day and Month](#4.2)\n",
    "      * 4.3 [Transactions by Hour](#4.3)\n",
    "      * 4.4 [Items Sold per Month](#4.4)\n",
    "      * 4.5 [Transactions and Items sold per Store Location](#4.5)\n",
    "      * 4.6 [Total Revenue by Store Location](#4.6)\n",
    "      * 4.7 [Top Product Categories: Transactions vs Quantity Sold](#4.7)\n",
    "      * 4.8 [Top Product Types: Transactions vs Quantity Sold](#4.8)\n",
    "        * 4.8.1 [Comparison of product_type transactions vs quantity sold](#4.8.1)\n",
    "      * 4.9 [Product Category Quantity Sold per Store Location](#4.9)\n",
    "      * 4.10 [Product Revenue Analysis](#4.10)\n",
    "        * 4.10.1 [Most Expensive Products on Average](#4.10.1)\n",
    "        * 4.10.2 [Revenue by product category](#4.10.2)\n",
    "        * 4.10.3 [Revenue by product type](#4.10.3)\n",
    "        * 4.10.4 [Revenue by product category in each store location](#4.10.4)\n",
    "        * 4.10.5 [Top 10 Products by: Revenue, Quantity Sold and Transactions](#4.10.5)\n",
    "        * 4.10.6 [Hourly Revenue in each Store Location](#4.10.6)\n",
    "        * 4.10.7 [Trend of Total Revenue Over Time](#4.10.7)\n",
    "      * 4.11 [Relationship Between Unit Price, Transaction Quantity, and Total Revenue](#4.11)"
   ]
  },
  {
   "cell_type": "code",
   "execution_count": 295,
   "id": "67f36442489b8da3",
   "metadata": {
    "ExecuteTime": {
     "end_time": "2025-10-31T20:38:17.726521Z",
     "start_time": "2025-10-31T20:38:17.723331Z"
    }
   },
   "outputs": [],
   "source": [
    "import pandas as pd\n",
    "import os\n",
    "import numpy as np\n",
    "import matplotlib.pyplot as plt\n",
    "import seaborn as sns\n",
    "from scipy.stats import kurtosis, skew"
   ]
  },
  {
   "cell_type": "markdown",
   "id": "f5434820-751d-4741-95ef-498bc0a16f1a",
   "metadata": {},
   "source": [
    "## 2. Dataset <a id=2><a/>"
   ]
  },
  {
   "cell_type": "markdown",
   "id": "a56785c40ac07e8c",
   "metadata": {},
   "source": [
    "### 2.1 Loading the dataset <a id=2.1><a/>"
   ]
  },
  {
   "cell_type": "code",
   "execution_count": 296,
   "id": "3b853be16973577",
   "metadata": {
    "ExecuteTime": {
     "end_time": "2025-10-31T20:38:19.190582Z",
     "start_time": "2025-10-31T20:38:18.960240Z"
    }
   },
   "outputs": [
    {
     "name": "stdout",
     "output_type": "stream",
     "text": [
      "   transaction_id transaction_date transaction_time  transaction_qty  \\\n",
      "0               1       2023-01-01         07:06:11                2   \n",
      "1               2       2023-01-01         07:08:56                2   \n",
      "2               3       2023-01-01         07:14:04                2   \n",
      "3               4       2023-01-01         07:20:24                1   \n",
      "4               5       2023-01-01         07:22:41                2   \n",
      "\n",
      "   store_id   store_location  product_id  unit_price    product_category  \\\n",
      "0         5  Lower Manhattan          32         3.0              Coffee   \n",
      "1         5  Lower Manhattan          57         3.1                 Tea   \n",
      "2         5  Lower Manhattan          59         4.5  Drinking Chocolate   \n",
      "3         5  Lower Manhattan          22         2.0              Coffee   \n",
      "4         5  Lower Manhattan          57         3.1                 Tea   \n",
      "\n",
      "            product_type               product_detail  \n",
      "0  Gourmet brewed coffee                  Ethiopia Rg  \n",
      "1        Brewed Chai tea     Spicy Eye Opener Chai Lg  \n",
      "2          Hot chocolate            Dark chocolate Lg  \n",
      "3            Drip coffee  Our Old Time Diner Blend Sm  \n",
      "4        Brewed Chai tea     Spicy Eye Opener Chai Lg  \n"
     ]
    }
   ],
   "source": [
    "# Path depending on environment\n",
    "if os.path.exists(\"/kaggle/input/trends-product-coffee-shop-sales-revenue-dataset/coffee-shop-sales-revenue.csv\"):\n",
    "    file_path = \"/kaggle/input/trends-product-coffee-shop-sales-revenue-dataset/coffee-shop-sales-revenue.csv\"\n",
    "else:\n",
    "    file_path = \"coffee-shop-sales-revenue.csv\"  # local path in PyCharm\n",
    "\n",
    "data = pd.read_csv(file_path, sep=\"|\")\n",
    "print(data.head())"
   ]
  },
  {
   "cell_type": "code",
   "execution_count": 292,
   "id": "841ad9cf23399b2e",
   "metadata": {
    "ExecuteTime": {
     "end_time": "2025-10-31T20:28:55.374839Z",
     "start_time": "2025-10-31T20:28:55.178147Z"
    }
   },
   "outputs": [
    {
     "name": "stdout",
     "output_type": "stream",
     "text": [
      "   transaction_id transaction_date transaction_time  transaction_qty  \\\n",
      "0               1       2023-01-01         07:06:11                2   \n",
      "1               2       2023-01-01         07:08:56                2   \n",
      "2               3       2023-01-01         07:14:04                2   \n",
      "3               4       2023-01-01         07:20:24                1   \n",
      "4               5       2023-01-01         07:22:41                2   \n",
      "\n",
      "   store_id   store_location  product_id  unit_price    product_category  \\\n",
      "0         5  Lower Manhattan          32         3.0              Coffee   \n",
      "1         5  Lower Manhattan          57         3.1                 Tea   \n",
      "2         5  Lower Manhattan          59         4.5  Drinking Chocolate   \n",
      "3         5  Lower Manhattan          22         2.0              Coffee   \n",
      "4         5  Lower Manhattan          57         3.1                 Tea   \n",
      "\n",
      "            product_type               product_detail  \n",
      "0  Gourmet brewed coffee                  Ethiopia Rg  \n",
      "1        Brewed Chai tea     Spicy Eye Opener Chai Lg  \n",
      "2          Hot chocolate            Dark chocolate Lg  \n",
      "3            Drip coffee  Our Old Time Diner Blend Sm  \n",
      "4        Brewed Chai tea     Spicy Eye Opener Chai Lg  \n"
     ]
    }
   ],
   "source": [
    "data = pd.read_csv(\"coffee-shop-sales-revenue.csv\", sep=\"|\")\n",
    "print(data.head())"
   ]
  },
  {
   "cell_type": "code",
   "execution_count": 246,
   "id": "35d583282cdfa8b0",
   "metadata": {
    "ExecuteTime": {
     "end_time": "2025-10-31T20:13:00.200719Z",
     "start_time": "2025-10-31T20:13:00.195944Z"
    }
   },
   "outputs": [
    {
     "name": "stdout",
     "output_type": "stream",
     "text": [
      "transaction_id        int64\n",
      "transaction_date     object\n",
      "transaction_time     object\n",
      "transaction_qty       int64\n",
      "store_id              int64\n",
      "store_location       object\n",
      "product_id            int64\n",
      "unit_price          float64\n",
      "product_category     object\n",
      "product_type         object\n",
      "product_detail       object\n",
      "dtype: object\n"
     ]
    }
   ],
   "source": [
    "print(data.dtypes)"
   ]
  },
  {
   "cell_type": "code",
   "execution_count": 247,
   "id": "87f3e711c06edbef",
   "metadata": {
    "ExecuteTime": {
     "end_time": "2025-10-31T20:13:00.229697Z",
     "start_time": "2025-10-31T20:13:00.224499Z"
    }
   },
   "outputs": [
    {
     "name": "stdout",
     "output_type": "stream",
     "text": [
      "   transaction_id transaction_date transaction_time  transaction_qty  \\\n",
      "0               1       2023-01-01         07:06:11                2   \n",
      "1               2       2023-01-01         07:08:56                2   \n",
      "2               3       2023-01-01         07:14:04                2   \n",
      "3               4       2023-01-01         07:20:24                1   \n",
      "4               5       2023-01-01         07:22:41                2   \n",
      "\n",
      "   store_id   store_location  product_id  unit_price    product_category  \\\n",
      "0         5  Lower Manhattan          32         3.0              Coffee   \n",
      "1         5  Lower Manhattan          57         3.1                 Tea   \n",
      "2         5  Lower Manhattan          59         4.5  Drinking Chocolate   \n",
      "3         5  Lower Manhattan          22         2.0              Coffee   \n",
      "4         5  Lower Manhattan          57         3.1                 Tea   \n",
      "\n",
      "            product_type               product_detail  \n",
      "0  Gourmet brewed coffee                  Ethiopia Rg  \n",
      "1        Brewed Chai tea     Spicy Eye Opener Chai Lg  \n",
      "2          Hot chocolate            Dark chocolate Lg  \n",
      "3            Drip coffee  Our Old Time Diner Blend Sm  \n",
      "4        Brewed Chai tea     Spicy Eye Opener Chai Lg  \n"
     ]
    }
   ],
   "source": [
    "print(data.head())"
   ]
  },
  {
   "cell_type": "code",
   "execution_count": 248,
   "id": "5af2e2898af55c12",
   "metadata": {
    "ExecuteTime": {
     "end_time": "2025-10-31T20:13:00.248725Z",
     "start_time": "2025-10-31T20:13:00.244893Z"
    }
   },
   "outputs": [
    {
     "data": {
      "text/plain": [
       "(149116, 11)"
      ]
     },
     "execution_count": 248,
     "metadata": {},
     "output_type": "execute_result"
    }
   ],
   "source": [
    "data.shape"
   ]
  },
  {
   "cell_type": "markdown",
   "id": "1ef3cade0c99b1dd",
   "metadata": {},
   "source": [
    "### 2.2 Checking for NA values and duplicates <a id=2.2><a/>"
   ]
  },
  {
   "cell_type": "code",
   "execution_count": 249,
   "id": "97a0d8e491dcc2e5",
   "metadata": {
    "ExecuteTime": {
     "end_time": "2025-10-31T20:13:06.359764Z",
     "start_time": "2025-10-31T20:13:06.328728Z"
    }
   },
   "outputs": [
    {
     "name": "stdout",
     "output_type": "stream",
     "text": [
      "transaction_id      0\n",
      "transaction_date    0\n",
      "transaction_time    0\n",
      "transaction_qty     0\n",
      "store_id            0\n",
      "store_location      0\n",
      "product_id          0\n",
      "unit_price          0\n",
      "product_category    0\n",
      "product_type        0\n",
      "product_detail      0\n",
      "dtype: int64\n"
     ]
    }
   ],
   "source": [
    "print(data.isna().sum())"
   ]
  },
  {
   "cell_type": "code",
   "execution_count": 250,
   "id": "2b2ddd0a984136d9",
   "metadata": {
    "ExecuteTime": {
     "end_time": "2025-10-31T20:13:06.441477Z",
     "start_time": "2025-10-31T20:13:06.367363Z"
    }
   },
   "outputs": [
    {
     "name": "stdout",
     "output_type": "stream",
     "text": [
      "0\n"
     ]
    }
   ],
   "source": [
    "print(data.duplicated().sum())"
   ]
  },
  {
   "cell_type": "markdown",
   "id": "504e1563ce31c217",
   "metadata": {},
   "source": [
    "### 2.3 Unique Values <a id=2.3><a/>"
   ]
  },
  {
   "cell_type": "code",
   "execution_count": 251,
   "id": "3d2e2ad6bd052936",
   "metadata": {
    "ExecuteTime": {
     "end_time": "2025-10-31T20:13:09.981220Z",
     "start_time": "2025-10-31T20:13:09.921231Z"
    }
   },
   "outputs": [
    {
     "data": {
      "text/html": [
       "<div>\n",
       "<style scoped>\n",
       "    .dataframe tbody tr th:only-of-type {\n",
       "        vertical-align: middle;\n",
       "    }\n",
       "\n",
       "    .dataframe tbody tr th {\n",
       "        vertical-align: top;\n",
       "    }\n",
       "\n",
       "    .dataframe thead th {\n",
       "        text-align: right;\n",
       "    }\n",
       "</style>\n",
       "<table border=\"1\" class=\"dataframe\">\n",
       "  <thead>\n",
       "    <tr style=\"text-align: right;\">\n",
       "      <th></th>\n",
       "      <th>Number of unique values</th>\n",
       "    </tr>\n",
       "  </thead>\n",
       "  <tbody>\n",
       "    <tr>\n",
       "      <th>transaction_id</th>\n",
       "      <td>149116</td>\n",
       "    </tr>\n",
       "    <tr>\n",
       "      <th>transaction_date</th>\n",
       "      <td>181</td>\n",
       "    </tr>\n",
       "    <tr>\n",
       "      <th>transaction_time</th>\n",
       "      <td>25762</td>\n",
       "    </tr>\n",
       "    <tr>\n",
       "      <th>transaction_qty</th>\n",
       "      <td>6</td>\n",
       "    </tr>\n",
       "    <tr>\n",
       "      <th>store_id</th>\n",
       "      <td>3</td>\n",
       "    </tr>\n",
       "    <tr>\n",
       "      <th>store_location</th>\n",
       "      <td>3</td>\n",
       "    </tr>\n",
       "    <tr>\n",
       "      <th>product_id</th>\n",
       "      <td>80</td>\n",
       "    </tr>\n",
       "    <tr>\n",
       "      <th>unit_price</th>\n",
       "      <td>41</td>\n",
       "    </tr>\n",
       "    <tr>\n",
       "      <th>product_category</th>\n",
       "      <td>9</td>\n",
       "    </tr>\n",
       "    <tr>\n",
       "      <th>product_type</th>\n",
       "      <td>29</td>\n",
       "    </tr>\n",
       "    <tr>\n",
       "      <th>product_detail</th>\n",
       "      <td>80</td>\n",
       "    </tr>\n",
       "  </tbody>\n",
       "</table>\n",
       "</div>"
      ],
      "text/plain": [
       "                  Number of unique values\n",
       "transaction_id                     149116\n",
       "transaction_date                      181\n",
       "transaction_time                    25762\n",
       "transaction_qty                         6\n",
       "store_id                                3\n",
       "store_location                          3\n",
       "product_id                             80\n",
       "unit_price                             41\n",
       "product_category                        9\n",
       "product_type                           29\n",
       "product_detail                         80"
      ]
     },
     "execution_count": 251,
     "metadata": {},
     "output_type": "execute_result"
    }
   ],
   "source": [
    "pd.DataFrame(data.nunique(), columns=['Number of unique values'])"
   ]
  },
  {
   "cell_type": "code",
   "execution_count": 252,
   "id": "b09a85b607aaf38",
   "metadata": {
    "ExecuteTime": {
     "end_time": "2025-10-31T20:13:10.042457Z",
     "start_time": "2025-10-31T20:13:10.039213Z"
    }
   },
   "outputs": [],
   "source": [
    "def unique_values(column):\n",
    "    return pd.DataFrame(data[column].unique(), columns=['Unique values'])"
   ]
  },
  {
   "cell_type": "code",
   "execution_count": 253,
   "id": "be9afea57a846656",
   "metadata": {
    "ExecuteTime": {
     "end_time": "2025-10-31T20:13:10.174413Z",
     "start_time": "2025-10-31T20:13:10.168675Z"
    }
   },
   "outputs": [
    {
     "name": "stdout",
     "output_type": "stream",
     "text": [
      "   Unique values\n",
      "0              2\n",
      "1              1\n",
      "2              3\n",
      "3              4\n",
      "4              8\n",
      "5              6\n"
     ]
    }
   ],
   "source": [
    "print(unique_values('transaction_qty'))"
   ]
  },
  {
   "cell_type": "code",
   "execution_count": null,
   "id": "41911a9fec270e4d",
   "metadata": {},
   "outputs": [],
   "source": [
    "print(unique_values('store_id'))"
   ]
  },
  {
   "cell_type": "code",
   "execution_count": null,
   "id": "174ea93956cfb0f7",
   "metadata": {},
   "outputs": [],
   "source": [
    "print(unique_values('store_location'))"
   ]
  },
  {
   "cell_type": "code",
   "execution_count": null,
   "id": "69dbf3d67925d88e",
   "metadata": {},
   "outputs": [],
   "source": [
    "print(unique_values('product_id'))"
   ]
  },
  {
   "cell_type": "code",
   "execution_count": null,
   "id": "617f4a5bb279b5b6",
   "metadata": {},
   "outputs": [],
   "source": [
    "print(unique_values('product_category'))"
   ]
  },
  {
   "cell_type": "code",
   "execution_count": null,
   "id": "2da2c98068315e88",
   "metadata": {},
   "outputs": [],
   "source": [
    "print(unique_values('product_type'))"
   ]
  },
  {
   "cell_type": "code",
   "execution_count": null,
   "id": "af4dc654de386cd6",
   "metadata": {},
   "outputs": [],
   "source": [
    "print(unique_values('product_detail'))"
   ]
  },
  {
   "cell_type": "markdown",
   "id": "f4423e96-5a33-4255-ad62-015813dfaef2",
   "metadata": {},
   "source": [
    "## 3. Feature Engineering <a id=3><a/>"
   ]
  },
  {
   "cell_type": "markdown",
   "id": "8f49bc75-1cc3-4950-b6cc-57c3e1421566",
   "metadata": {},
   "source": [
    "### 3.1 Transforming date and time variables to datetime <a id=3.1><a/>"
   ]
  },
  {
   "cell_type": "code",
   "execution_count": 254,
   "id": "36d2c2137f6cda",
   "metadata": {
    "ExecuteTime": {
     "end_time": "2025-10-31T20:13:14.048311Z",
     "start_time": "2025-10-31T20:13:14.031885Z"
    }
   },
   "outputs": [],
   "source": [
    "data['transaction_date'] = pd.to_datetime(data['transaction_date'], format='%Y-%m-%d')"
   ]
  },
  {
   "cell_type": "code",
   "execution_count": 255,
   "id": "ef2564e0b9624c9e",
   "metadata": {
    "ExecuteTime": {
     "end_time": "2025-10-31T20:13:14.376945Z",
     "start_time": "2025-10-31T20:13:14.065945Z"
    }
   },
   "outputs": [],
   "source": [
    "data['transaction_time'] = pd.to_datetime(data['transaction_time'], format='%H:%M:%S').dt.time"
   ]
  },
  {
   "cell_type": "markdown",
   "id": "e988da8e80f032f5",
   "metadata": {},
   "source": [
    "### 3.2 Creating 3 more variables: (transaction_day, transaction_month, transaction_year) <a id=3.2><a/>\n",
    "Creating 3 more variables from transaction_date (transaction_day, transaction_month, transaction_year) for further analysis "
   ]
  },
  {
   "cell_type": "code",
   "execution_count": 256,
   "id": "fcf5e3c832807c4b",
   "metadata": {
    "ExecuteTime": {
     "end_time": "2025-10-31T20:13:17.061890Z",
     "start_time": "2025-10-31T20:13:17.047260Z"
    }
   },
   "outputs": [],
   "source": [
    "data['transaction_day'] = data['transaction_date'].dt.day\n",
    "data['transaction_month'] = data['transaction_date'].dt.month\n",
    "data['transaction_year'] = data['transaction_date'].dt.year"
   ]
  },
  {
   "cell_type": "code",
   "execution_count": 257,
   "id": "ba78f3e94530b2ba",
   "metadata": {
    "ExecuteTime": {
     "end_time": "2025-10-31T20:13:17.080431Z",
     "start_time": "2025-10-31T20:13:17.073453Z"
    }
   },
   "outputs": [
    {
     "data": {
      "text/html": [
       "<div>\n",
       "<style scoped>\n",
       "    .dataframe tbody tr th:only-of-type {\n",
       "        vertical-align: middle;\n",
       "    }\n",
       "\n",
       "    .dataframe tbody tr th {\n",
       "        vertical-align: top;\n",
       "    }\n",
       "\n",
       "    .dataframe thead th {\n",
       "        text-align: right;\n",
       "    }\n",
       "</style>\n",
       "<table border=\"1\" class=\"dataframe\">\n",
       "  <thead>\n",
       "    <tr style=\"text-align: right;\">\n",
       "      <th></th>\n",
       "      <th>transaction_day</th>\n",
       "      <th>transaction_month</th>\n",
       "      <th>transaction_year</th>\n",
       "    </tr>\n",
       "  </thead>\n",
       "  <tbody>\n",
       "    <tr>\n",
       "      <th>0</th>\n",
       "      <td>1</td>\n",
       "      <td>1</td>\n",
       "      <td>2023</td>\n",
       "    </tr>\n",
       "    <tr>\n",
       "      <th>1</th>\n",
       "      <td>1</td>\n",
       "      <td>1</td>\n",
       "      <td>2023</td>\n",
       "    </tr>\n",
       "    <tr>\n",
       "      <th>2</th>\n",
       "      <td>1</td>\n",
       "      <td>1</td>\n",
       "      <td>2023</td>\n",
       "    </tr>\n",
       "    <tr>\n",
       "      <th>3</th>\n",
       "      <td>1</td>\n",
       "      <td>1</td>\n",
       "      <td>2023</td>\n",
       "    </tr>\n",
       "    <tr>\n",
       "      <th>4</th>\n",
       "      <td>1</td>\n",
       "      <td>1</td>\n",
       "      <td>2023</td>\n",
       "    </tr>\n",
       "  </tbody>\n",
       "</table>\n",
       "</div>"
      ],
      "text/plain": [
       "   transaction_day  transaction_month  transaction_year\n",
       "0                1                  1              2023\n",
       "1                1                  1              2023\n",
       "2                1                  1              2023\n",
       "3                1                  1              2023\n",
       "4                1                  1              2023"
      ]
     },
     "execution_count": 257,
     "metadata": {},
     "output_type": "execute_result"
    }
   ],
   "source": [
    "data[['transaction_day', 'transaction_month', 'transaction_year']].head()"
   ]
  },
  {
   "cell_type": "markdown",
   "id": "28bff706ad963547",
   "metadata": {},
   "source": [
    "### 3.3 Creating 3 more variables: transaction_hour, transaction_minute, transaction_second <a id=3.3><a/>\n",
    "Creating 3 more variables from transaction_time (transaction_hour, transaction_minutes, transaction_seconds) for further analysis "
   ]
  },
  {
   "cell_type": "code",
   "execution_count": 258,
   "id": "4086e37f07956ddb",
   "metadata": {
    "ExecuteTime": {
     "end_time": "2025-10-31T20:13:17.473725Z",
     "start_time": "2025-10-31T20:13:17.118799Z"
    }
   },
   "outputs": [],
   "source": [
    "time = pd.to_datetime(data['transaction_time'], format='%H:%M:%S')"
   ]
  },
  {
   "cell_type": "code",
   "execution_count": 259,
   "id": "e05b2818a6050fb8",
   "metadata": {
    "ExecuteTime": {
     "end_time": "2025-10-31T20:13:17.524817Z",
     "start_time": "2025-10-31T20:13:17.520574Z"
    }
   },
   "outputs": [
    {
     "name": "stdout",
     "output_type": "stream",
     "text": [
      "0        1900-01-01 07:06:11\n",
      "1        1900-01-01 07:08:56\n",
      "2        1900-01-01 07:14:04\n",
      "3        1900-01-01 07:20:24\n",
      "4        1900-01-01 07:22:41\n",
      "                 ...        \n",
      "149111   1900-01-01 20:18:41\n",
      "149112   1900-01-01 20:25:10\n",
      "149113   1900-01-01 20:31:34\n",
      "149114   1900-01-01 20:57:19\n",
      "149115   1900-01-01 20:57:19\n",
      "Name: transaction_time, Length: 149116, dtype: datetime64[ns]\n"
     ]
    }
   ],
   "source": [
    "print(time)"
   ]
  },
  {
   "cell_type": "code",
   "execution_count": 260,
   "id": "77ba50c5a6c72444",
   "metadata": {
    "ExecuteTime": {
     "end_time": "2025-10-31T20:13:17.590476Z",
     "start_time": "2025-10-31T20:13:17.576548Z"
    }
   },
   "outputs": [],
   "source": [
    "data['transaction_hour'] = time.dt.hour\n",
    "data['transaction_minute'] = time.dt.minute\n",
    "data['transaction_second'] = time.dt.second"
   ]
  },
  {
   "cell_type": "code",
   "execution_count": 261,
   "id": "2a98aa50d39de796",
   "metadata": {
    "ExecuteTime": {
     "end_time": "2025-10-31T20:13:17.657178Z",
     "start_time": "2025-10-31T20:13:17.648048Z"
    }
   },
   "outputs": [
    {
     "data": {
      "text/plain": [
       "0          7\n",
       "1          7\n",
       "2          7\n",
       "3          7\n",
       "4          7\n",
       "          ..\n",
       "149111    20\n",
       "149112    20\n",
       "149113    20\n",
       "149114    20\n",
       "149115    20\n",
       "Name: transaction_time, Length: 149116, dtype: int32"
      ]
     },
     "execution_count": 261,
     "metadata": {},
     "output_type": "execute_result"
    }
   ],
   "source": [
    "time.dt.hour"
   ]
  },
  {
   "cell_type": "markdown",
   "id": "a0f28ba9964faf64",
   "metadata": {},
   "source": [
    "### 3.4 Total Revenue per Transaction <a id=3.4><a/>\n",
    "\n",
    "We create a new variable `total_revenue` as the product of `transaction_qty` and `unit_price`.\n",
    "This represents the total revenue generated from each transaction and will be used for further analysis of sales trends."
   ]
  },
  {
   "cell_type": "code",
   "execution_count": 262,
   "id": "4594e43c44f64906",
   "metadata": {
    "ExecuteTime": {
     "end_time": "2025-10-31T20:13:21.648854Z",
     "start_time": "2025-10-31T20:13:21.643532Z"
    }
   },
   "outputs": [
    {
     "name": "stdout",
     "output_type": "stream",
     "text": [
      "0    6.0\n",
      "1    6.2\n",
      "2    9.0\n",
      "3    2.0\n",
      "4    6.2\n",
      "Name: total_revenue, dtype: float64\n"
     ]
    }
   ],
   "source": [
    "data['total_revenue'] = data['transaction_qty'] * data['unit_price']\n",
    "print(data['total_revenue'].head())"
   ]
  },
  {
   "cell_type": "markdown",
   "id": "be542c7b4bf20500",
   "metadata": {},
   "source": [
    "## 4. Exploratory Data Analysis <a id=4><a/>"
   ]
  },
  {
   "cell_type": "markdown",
   "id": "113ba4be5fad8bb0",
   "metadata": {},
   "source": [
    "### 4.1 Descriptive Statistics <a id=4.1><a/>"
   ]
  },
  {
   "cell_type": "code",
   "execution_count": 263,
   "id": "3ea22a6fe9eac4c8",
   "metadata": {
    "ExecuteTime": {
     "end_time": "2025-10-31T20:13:23.216916Z",
     "start_time": "2025-10-31T20:13:23.194633Z"
    }
   },
   "outputs": [
    {
     "name": "stdout",
     "output_type": "stream",
     "text": [
      "                    count      mean       std  min  25%  50%   75%   max\n",
      "transaction_qty  149116.0  1.438276  0.542509  1.0  1.0  1.0  2.00   8.0\n",
      "unit_price       149116.0  3.382219  2.658723  0.8  2.5  3.0  3.75  45.0\n"
     ]
    }
   ],
   "source": [
    "print(data[['transaction_qty', 'unit_price']].describe().T)"
   ]
  },
  {
   "cell_type": "markdown",
   "id": "18bb2e4768ab5398",
   "metadata": {},
   "source": [
    "###### The average transaction quantity is approximately 1.44 items, with most transactions being for a single item (median = 1).\n",
    "###### Unit prices vary widely, from 0.80 to 45 dollars, with an average price of 3.38 dollars, indicating a few high-priced items skewing the mean."
   ]
  },
  {
   "cell_type": "markdown",
   "id": "b5a1da7089c154ef",
   "metadata": {},
   "source": [
    "### 4.2 Transactions by Day and Month <a id=4.2><a/>"
   ]
  },
  {
   "cell_type": "code",
   "execution_count": 264,
   "id": "5f698d8057c71b12",
   "metadata": {
    "ExecuteTime": {
     "end_time": "2025-10-31T20:13:26.592074Z",
     "start_time": "2025-10-31T20:13:26.579844Z"
    }
   },
   "outputs": [
    {
     "data": {
      "text/plain": [
       "transaction_month  transaction_day\n",
       "1                  15                  663\n",
       "                   16                  627\n",
       "                   13                  625\n",
       "                   19                  616\n",
       "                   10                  602\n",
       "                                      ... \n",
       "6                  30                 1095\n",
       "                   7                  1083\n",
       "                   28                 1070\n",
       "                   6                  1041\n",
       "                   29                 1009\n",
       "Name: count, Length: 181, dtype: int64"
      ]
     },
     "execution_count": 264,
     "metadata": {},
     "output_type": "execute_result"
    }
   ],
   "source": [
    "data.groupby('transaction_month')['transaction_day'].value_counts()\n",
    "#Jan 15th 663 / Feb 19th 692 / Mar 27th 764 / Apr 16th 989 / May 16th 1219 / Jun 19th 1343"
   ]
  },
  {
   "cell_type": "code",
   "execution_count": 265,
   "id": "9e61a9f985b8ca06",
   "metadata": {
    "ExecuteTime": {
     "end_time": "2025-10-31T20:13:26.642927Z",
     "start_time": "2025-10-31T20:13:26.638658Z"
    }
   },
   "outputs": [
    {
     "name": "stdout",
     "output_type": "stream",
     "text": [
      "transaction_month\n",
      "1    17314\n",
      "2    16359\n",
      "3    21229\n",
      "4    25335\n",
      "5    33527\n",
      "6    35352\n",
      "Name: count, dtype: int64\n"
     ]
    }
   ],
   "source": [
    "print(data['transaction_month'].value_counts().sort_index())\n",
    "#June has the most transactions with 35352 in total."
   ]
  },
  {
   "cell_type": "code",
   "execution_count": 266,
   "id": "327778ba86b8892f",
   "metadata": {
    "ExecuteTime": {
     "end_time": "2025-10-31T20:13:26.768551Z",
     "start_time": "2025-10-31T20:13:26.764203Z"
    }
   },
   "outputs": [
    {
     "name": "stdout",
     "output_type": "stream",
     "text": [
      "[17314 16359 21229 25335 33527 35352]\n"
     ]
    }
   ],
   "source": [
    "counts = data['transaction_month'].value_counts().sort_index().values\n",
    "print(counts)"
   ]
  },
  {
   "cell_type": "code",
   "execution_count": null,
   "id": "61e9c64125888c00",
   "metadata": {},
   "outputs": [],
   "source": [
    "#Countplot\n",
    "ax=sns.countplot(data=data, x='transaction_month', color=\"deepskyblue\")\n",
    "#Month labels for x-axis\n",
    "month_labels = ['Jan', 'Feb', 'Mar', 'Apr', 'May', 'Jun']\n",
    "ax.set_xticks(range(6))\n",
    "ax.set_xticklabels(['Jan','Feb','Mar','Apr','May','Jun'])\n",
    "#transactions per month in an array using numpy\n",
    "counts = data['transaction_month'].value_counts().sort_index().values\n",
    "# Add labels on top of bars\n",
    "ax.bar_label(container=ax.containers[0], labels=counts)\n",
    "#Plot labels\n",
    "plt.title(\"Most transactions per month\")\n",
    "plt.xlabel(\"Month\")\n",
    "plt.ylabel(\"Transaction Count\")\n",
    "plt.show()"
   ]
  },
  {
   "cell_type": "markdown",
   "id": "666191fb8ff5cd7c",
   "metadata": {},
   "source": [
    "###### Most transactions occur in June (35352)."
   ]
  },
  {
   "cell_type": "markdown",
   "id": "229861f2833410aa",
   "metadata": {},
   "source": [
    "### 4.3 Transactions by Hour <a id=4.3><a/>"
   ]
  },
  {
   "cell_type": "code",
   "execution_count": null,
   "id": "bdae40bb05fa1727",
   "metadata": {},
   "outputs": [],
   "source": [
    "sns.countplot(x=\"transaction_hour\", data=data, color=\"deepskyblue\")\n",
    "plt.show()\n",
    "#Most transactions happen in the morning hours (between 7:00-10:00)."
   ]
  },
  {
   "cell_type": "markdown",
   "id": "331f6f399d6e4bbc",
   "metadata": {},
   "source": [
    "###### Most transactions happen in the morning hours (between 7:00-10:00)."
   ]
  },
  {
   "cell_type": "markdown",
   "id": "4c51bdd54449e8f3",
   "metadata": {},
   "source": [
    "### 4.4 Items Sold per Month <a id=4.4><a/>"
   ]
  },
  {
   "cell_type": "code",
   "execution_count": 267,
   "id": "3c2149b42d2ecabf",
   "metadata": {
    "ExecuteTime": {
     "end_time": "2025-10-31T20:13:38.233445Z",
     "start_time": "2025-10-31T20:13:38.226971Z"
    }
   },
   "outputs": [
    {
     "name": "stdout",
     "output_type": "stream",
     "text": [
      "transaction_month\n",
      "1    24870\n",
      "2    23550\n",
      "3    30406\n",
      "4    36469\n",
      "5    48233\n",
      "6    50942\n",
      "Name: transaction_qty, dtype: int64\n"
     ]
    }
   ],
   "source": [
    "monthly_item_sales = data.groupby('transaction_month')['transaction_qty'].sum()\n",
    "print(monthly_item_sales)\n",
    "#Most"
   ]
  },
  {
   "cell_type": "code",
   "execution_count": 268,
   "id": "f1921d8e5b36b791",
   "metadata": {
    "ExecuteTime": {
     "end_time": "2025-10-31T20:13:39.951198Z",
     "start_time": "2025-10-31T20:13:39.948183Z"
    }
   },
   "outputs": [
    {
     "name": "stdout",
     "output_type": "stream",
     "text": [
      "[24870 23550 30406 36469 48233 50942]\n"
     ]
    }
   ],
   "source": [
    "print(monthly_item_sales.values)"
   ]
  },
  {
   "cell_type": "code",
   "execution_count": null,
   "id": "a1afae63ee1edb5d",
   "metadata": {},
   "outputs": [],
   "source": [
    "#barplot\n",
    "ax = sns.barplot(x=monthly_item_sales.index, y=monthly_item_sales.values, color=\"deepskyblue\")\n",
    "#items sold\n",
    "ax.bar_label(ax.containers[0])\n",
    "#month labels\n",
    "ax.set_xticks(range(6))\n",
    "ax.set_xticklabels(['Jan','Feb','Mar','Apr','May','Jun'])\n",
    "#plot labels\n",
    "plt.title(\"Total Items Sold per Month\")\n",
    "plt.xlabel(\"Month\")\n",
    "plt.ylabel(\"Total Quantity Sold\")\n",
    "plt.show()"
   ]
  },
  {
   "cell_type": "markdown",
   "id": "7d482490e45a0f0e",
   "metadata": {},
   "source": [
    "###### Most items were sold in June (50942)."
   ]
  },
  {
   "cell_type": "markdown",
   "id": "9089a182de2eddc9",
   "metadata": {},
   "source": [
    "### 4.5 Transactions and Items sold per Store Location <a id=4.5><a/>"
   ]
  },
  {
   "cell_type": "code",
   "execution_count": 269,
   "id": "b4a887c6c4ca9464",
   "metadata": {
    "ExecuteTime": {
     "end_time": "2025-10-31T20:13:42.046562Z",
     "start_time": "2025-10-31T20:13:42.034965Z"
    }
   },
   "outputs": [
    {
     "name": "stdout",
     "output_type": "stream",
     "text": [
      "store_location\n",
      "Hell's Kitchen     50735\n",
      "Astoria            50599\n",
      "Lower Manhattan    47782\n",
      "Name: count, dtype: int64\n"
     ]
    }
   ],
   "source": [
    "print(data['store_location'].value_counts())"
   ]
  },
  {
   "cell_type": "code",
   "execution_count": null,
   "id": "f1ed6cd85ac03769",
   "metadata": {},
   "outputs": [],
   "source": [
    "ax = sns.countplot(x=\"store_location\", data=data, color=\"deepskyblue\")\n",
    "ax.bar_label(ax.containers[0])\n",
    "plt.title(\"Transactions per Store Location\")\n",
    "plt.xlabel(\"Store Location\")\n",
    "plt.ylabel(\"Transactions\")\n",
    "plt.show()"
   ]
  },
  {
   "cell_type": "markdown",
   "id": "7a7ec5305ed1ac8e",
   "metadata": {},
   "source": [
    "###### Most transactions happen in Hell's Kitchen (50735)."
   ]
  },
  {
   "cell_type": "code",
   "execution_count": 270,
   "id": "93374675f5d009db",
   "metadata": {
    "ExecuteTime": {
     "end_time": "2025-10-31T20:13:44.964720Z",
     "start_time": "2025-10-31T20:13:44.952752Z"
    }
   },
   "outputs": [
    {
     "name": "stdout",
     "output_type": "stream",
     "text": [
      "store_location\n",
      "Astoria            70991\n",
      "Hell's Kitchen     71737\n",
      "Lower Manhattan    71742\n",
      "Name: transaction_qty, dtype: int64\n"
     ]
    }
   ],
   "source": [
    "items_loc = data.groupby('store_location')['transaction_qty'].sum()\n",
    "print(items_loc)"
   ]
  },
  {
   "cell_type": "code",
   "execution_count": null,
   "id": "6e15d9b959134532",
   "metadata": {},
   "outputs": [],
   "source": [
    "ax = sns.barplot(x=items_loc.index, y=items_loc.values, color=\"deepskyblue\")\n",
    "ax.bar_label(ax.containers[0])\n",
    "plt.title(\"Items sold per Store Location\")\n",
    "plt.xlabel(\"Store Location\")\n",
    "plt.ylabel(\"Items Sold\")\n",
    "plt.show()"
   ]
  },
  {
   "cell_type": "markdown",
   "id": "6b4f936d4a60c4df",
   "metadata": {},
   "source": [
    "###### Most items sales happen in Lower Manhattan (71742)."
   ]
  },
  {
   "cell_type": "markdown",
   "id": "10ae7e5e7c22b8ca",
   "metadata": {},
   "source": [
    "### 4.6 Total Revenue by Store Location <a id=4.6><a/>"
   ]
  },
  {
   "cell_type": "code",
   "execution_count": 271,
   "id": "8bca5bae9d86248c",
   "metadata": {
    "ExecuteTime": {
     "end_time": "2025-10-31T20:13:50.481353Z",
     "start_time": "2025-10-31T20:13:50.469251Z"
    }
   },
   "outputs": [
    {
     "name": "stdout",
     "output_type": "stream",
     "text": [
      "store_location\n",
      "Astoria            232243.91\n",
      "Hell's Kitchen     236511.17\n",
      "Lower Manhattan    230057.25\n",
      "Name: total_revenue, dtype: float64\n"
     ]
    }
   ],
   "source": [
    "store_revenue = data.groupby('store_location')['total_revenue'].sum()\n",
    "print(store_revenue)"
   ]
  },
  {
   "cell_type": "code",
   "execution_count": null,
   "id": "d541724462e770fe",
   "metadata": {},
   "outputs": [],
   "source": [
    "ax = sns.barplot(x=store_revenue.index, y=store_revenue.values, color='deepskyblue')\n",
    "ax.bar_label(ax.containers[0])\n",
    "plt.title(\"Total Revenue per Store Location\")\n",
    "plt.xlabel(\"Store Location\")\n",
    "plt.ylabel(\"Total Revenue ($)\")\n",
    "plt.show()"
   ]
  },
  {
   "cell_type": "markdown",
   "id": "ab4442cb40b9b84f",
   "metadata": {},
   "source": [
    "###### All three locations generated approximately $230.000 from January to June."
   ]
  },
  {
   "cell_type": "markdown",
   "id": "55ef32e6ac0cc1bd",
   "metadata": {},
   "source": [
    "### 4.7 Top Product Categories: Transactions vs Quantity Sold <a id=4.7><a/>"
   ]
  },
  {
   "cell_type": "code",
   "execution_count": 272,
   "id": "e3ed75785d6974e6",
   "metadata": {
    "ExecuteTime": {
     "end_time": "2025-10-31T20:13:53.133574Z",
     "start_time": "2025-10-31T20:13:53.121490Z"
    }
   },
   "outputs": [
    {
     "name": "stdout",
     "output_type": "stream",
     "text": [
      "product_category\n",
      "Coffee                58416\n",
      "Tea                   45449\n",
      "Bakery                22796\n",
      "Drinking Chocolate    11468\n",
      "Flavours               6790\n",
      "Coffee beans           1753\n",
      "Loose Tea              1210\n",
      "Branded                 747\n",
      "Packaged Chocolate      487\n",
      "Name: count, dtype: int64\n"
     ]
    }
   ],
   "source": [
    "category_counts = data['product_category'].value_counts()\n",
    "print(category_counts)"
   ]
  },
  {
   "cell_type": "code",
   "execution_count": null,
   "id": "4b5c8f941164b32a",
   "metadata": {},
   "outputs": [],
   "source": [
    "ax = sns.barplot(x=category_counts.index, y=category_counts.values, color=\"deepskyblue\")\n",
    "ax.bar_label(ax.containers[0])\n",
    "plt.title(\"Product Categories by Transactions\")\n",
    "plt.ylabel(\"Transactions\")\n",
    "plt.xticks(rotation=45)\n",
    "plt.show()"
   ]
  },
  {
   "cell_type": "code",
   "execution_count": 273,
   "id": "445c5e69e4a965e6",
   "metadata": {
    "ExecuteTime": {
     "end_time": "2025-10-31T20:13:56.222641Z",
     "start_time": "2025-10-31T20:13:56.209349Z"
    }
   },
   "outputs": [
    {
     "name": "stdout",
     "output_type": "stream",
     "text": [
      "product_category\n",
      "Coffee                89250\n",
      "Tea                   69737\n",
      "Bakery                23214\n",
      "Drinking Chocolate    17457\n",
      "Flavours              10511\n",
      "Coffee beans           1828\n",
      "Loose Tea              1210\n",
      "Branded                 776\n",
      "Packaged Chocolate      487\n",
      "Name: transaction_qty, dtype: int64\n"
     ]
    }
   ],
   "source": [
    "category_sold = data.groupby('product_category')['transaction_qty'].sum().sort_values(ascending=False)\n",
    "print(category_sold)"
   ]
  },
  {
   "cell_type": "code",
   "execution_count": null,
   "id": "14d75174aa4c9c0d",
   "metadata": {},
   "outputs": [],
   "source": [
    "ax = sns.barplot(x=category_sold.index, y=category_sold.values, color=\"deepskyblue\")\n",
    "ax.bar_label(ax.containers[0])\n",
    "plt.title(\"Product Categories by Quantity Sold\")\n",
    "plt.xlabel(\"Total Quantity Sold\")\n",
    "plt.ylabel(\"Product Category\")\n",
    "plt.xticks(rotation=45)\n",
    "plt.show()"
   ]
  },
  {
   "cell_type": "markdown",
   "id": "a9bee43aca14b3a3",
   "metadata": {},
   "source": [
    "###### The product category with most sales and transactions is Coffee, followed by Tea and Bakery products."
   ]
  },
  {
   "cell_type": "markdown",
   "id": "598c2d3848f0346a",
   "metadata": {},
   "source": [
    "### 4.8 Top Product Types: Transactions vs Quantity Sold <a id=4.8><a/>"
   ]
  },
  {
   "cell_type": "code",
   "execution_count": 274,
   "id": "583c8e5fba52deae",
   "metadata": {
    "ExecuteTime": {
     "end_time": "2025-10-31T20:14:00.161260Z",
     "start_time": "2025-10-31T20:14:00.148450Z"
    }
   },
   "outputs": [
    {
     "name": "stdout",
     "output_type": "stream",
     "text": [
      "product_type\n",
      "Brewed Chai tea          17183\n",
      "Gourmet brewed coffee    16912\n",
      "Barista Espresso         16403\n",
      "Hot chocolate            11468\n",
      "Brewed Black tea         11350\n",
      "Brewed herbal tea        11245\n",
      "Scone                    10173\n",
      "Organic brewed coffee     8489\n",
      "Drip coffee               8477\n",
      "Premium brewed coffee     8135\n",
      "Name: count, dtype: int64\n"
     ]
    }
   ],
   "source": [
    "type_counts = data['product_type'].value_counts()\n",
    "top_types = type_counts.head(10)\n",
    "print(top_types)"
   ]
  },
  {
   "cell_type": "code",
   "execution_count": null,
   "id": "e7942d3bb530e428",
   "metadata": {},
   "outputs": [],
   "source": [
    "plt.figure(figsize=(9,5))\n",
    "ax = sns.barplot(x=top_types.index, y=top_types.values, color=\"deepskyblue\")\n",
    "ax.bar_label(ax.containers[0])\n",
    "plt.title(\"Product Types by Transactions\")\n",
    "plt.ylabel(\"Transactions\")\n",
    "plt.xticks(rotation=90)\n",
    "plt.show()"
   ]
  },
  {
   "cell_type": "code",
   "execution_count": 275,
   "id": "1155c48bc6e76ca7",
   "metadata": {
    "ExecuteTime": {
     "end_time": "2025-10-31T20:14:02.457840Z",
     "start_time": "2025-10-31T20:14:02.444053Z"
    }
   },
   "outputs": [
    {
     "name": "stdout",
     "output_type": "stream",
     "text": [
      "product_type\n",
      "Brewed Chai tea          26250\n",
      "Gourmet brewed coffee    25973\n",
      "Barista Espresso         24943\n",
      "Brewed Black tea         17462\n",
      "Hot chocolate            17457\n",
      "Brewed herbal tea        17328\n",
      "Organic brewed coffee    13012\n",
      "Drip coffee              12891\n",
      "Premium brewed coffee    12431\n",
      "Scone                    10465\n",
      "Name: transaction_qty, dtype: int64\n"
     ]
    }
   ],
   "source": [
    "type_sold = data.groupby('product_type')['transaction_qty'].sum().sort_values(ascending=False)\n",
    "top_types_qty = type_sold.head(10)\n",
    "print(top_types_qty)"
   ]
  },
  {
   "cell_type": "code",
   "execution_count": null,
   "id": "7a57561f9597cf90",
   "metadata": {},
   "outputs": [],
   "source": [
    "plt.figure(figsize=(9,5))\n",
    "ax = sns.barplot(x=top_types_qty.index, y=top_types_qty.values, color='deepskyblue')\n",
    "ax.bar_label(ax.containers[0])\n",
    "plt.title(\"Product Types by Quantity Sold\")\n",
    "plt.ylabel(\"Total Quantity Sold\")\n",
    "plt.xlabel(\"Product Type\")\n",
    "plt.xticks(rotation=60)\n",
    "plt.show()"
   ]
  },
  {
   "cell_type": "markdown",
   "id": "bbb48911-c81f-4763-8bea-23e93b2ec0b1",
   "metadata": {},
   "source": [
    "#### 4.8.1 Comparison of product_type transactions vs quantity sold. <a id=4.8.1><a/>"
   ]
  },
  {
   "cell_type": "code",
   "execution_count": 276,
   "id": "3ceba7dd77bce7c2",
   "metadata": {
    "ExecuteTime": {
     "end_time": "2025-10-31T20:14:05.636943Z",
     "start_time": "2025-10-31T20:14:05.631845Z"
    }
   },
   "outputs": [
    {
     "name": "stdout",
     "output_type": "stream",
     "text": [
      "                       Transactions  Quantity Sold\n",
      "product_type                                      \n",
      "Brewed Chai tea               17183          26250\n",
      "Gourmet brewed coffee         16912          25973\n",
      "Barista Espresso              16403          24943\n",
      "Brewed Black tea              11350          17462\n",
      "Hot chocolate                 11468          17457\n",
      "Brewed herbal tea             11245          17328\n",
      "Organic brewed coffee          8489          13012\n",
      "Drip coffee                    8477          12891\n",
      "Premium brewed coffee          8135          12431\n",
      "Scone                         10173          10465\n",
      "Brewed Green tea               5671           8697\n",
      "Regular syrup                  4979           7606\n",
      "Pastry                         6912           6961\n",
      "Biscotti                       5711           5788\n",
      "Sugar free syrup               1811           2905\n",
      "Housewares                      526            555\n",
      "Chai tea                        443            443\n",
      "Organic Beans                   415            420\n",
      "Premium Beans                   336            406\n",
      "Gourmet Beans                   366            366\n",
      "Espresso Beans                  319            319\n",
      "Herbal tea                      305            305\n",
      "Black tea                       303            303\n",
      "Drinking Chocolate              266            266\n",
      "Clothing                        221            221\n",
      "Organic Chocolate               221            221\n",
      "House blend Beans               183            183\n",
      "Green tea                       159            159\n",
      "Green beans                     134            134\n"
     ]
    }
   ],
   "source": [
    "compare = pd.DataFrame({'Transactions': type_counts,'Quantity Sold': type_sold,})\n",
    "print(compare.sort_values(by='Quantity Sold', ascending=False))"
   ]
  },
  {
   "cell_type": "markdown",
   "id": "c2982e4d485f40b8",
   "metadata": {},
   "source": [
    "### 4.9 Product Category Quantity Sold per Store Location <a id=4.9><a/>"
   ]
  },
  {
   "cell_type": "code",
   "execution_count": 277,
   "id": "d8e2808c0782a36d",
   "metadata": {
    "ExecuteTime": {
     "end_time": "2025-10-31T20:14:10.075774Z",
     "start_time": "2025-10-31T20:14:10.049889Z"
    }
   },
   "outputs": [
    {
     "name": "stdout",
     "output_type": "stream",
     "text": [
      "     store_location    product_category  transaction_qty\n",
      "2           Astoria              Coffee            29655\n",
      "8           Astoria                 Tea            24048\n",
      "0           Astoria              Bakery             7496\n",
      "4           Astoria  Drinking Chocolate             6351\n",
      "5           Astoria            Flavours             2206\n",
      "3           Astoria        Coffee beans              502\n",
      "6           Astoria           Loose Tea              344\n",
      "1           Astoria             Branded              279\n",
      "7           Astoria  Packaged Chocolate              110\n",
      "11   Hell's Kitchen              Coffee            30220\n",
      "17   Hell's Kitchen                 Tea            22980\n",
      "9    Hell's Kitchen              Bakery             7678\n",
      "13   Hell's Kitchen  Drinking Chocolate             5672\n",
      "14   Hell's Kitchen            Flavours             3596\n",
      "12   Hell's Kitchen        Coffee beans              790\n",
      "15   Hell's Kitchen           Loose Tea              485\n",
      "16   Hell's Kitchen  Packaged Chocolate              197\n",
      "10   Hell's Kitchen             Branded              119\n",
      "20  Lower Manhattan              Coffee            29375\n",
      "26  Lower Manhattan                 Tea            22709\n",
      "18  Lower Manhattan              Bakery             8040\n",
      "22  Lower Manhattan  Drinking Chocolate             5434\n",
      "23  Lower Manhattan            Flavours             4709\n",
      "21  Lower Manhattan        Coffee beans              536\n",
      "24  Lower Manhattan           Loose Tea              381\n",
      "19  Lower Manhattan             Branded              378\n",
      "25  Lower Manhattan  Packaged Chocolate              180\n"
     ]
    }
   ],
   "source": [
    "cat_location_sales = data.groupby(['store_location', 'product_category'])['transaction_qty'].sum().reset_index().sort_values(['store_location', 'transaction_qty'], ascending=[True, False])\n",
    "print(cat_location_sales)"
   ]
  },
  {
   "cell_type": "code",
   "execution_count": null,
   "id": "a18ae20b6a957cd8",
   "metadata": {},
   "outputs": [],
   "source": [
    "plt.figure(figsize=(15,6))\n",
    "sns.barplot(x='store_location', y='transaction_qty', data=cat_location_sales, hue='product_category', palette='Blues')\n",
    "plt.title(\"Product Categories by Quantity Sold in each store location\")\n",
    "plt.xlabel(\"Store Location\")\n",
    "plt.ylabel(\"Total Quantity Sold\")\n",
    "plt.tight_layout()"
   ]
  },
  {
   "cell_type": "markdown",
   "id": "5ad87055bccd253c",
   "metadata": {},
   "source": [
    "###### We see that in all three stores coffee, tea and bakery goods are the most prevalent."
   ]
  },
  {
   "cell_type": "markdown",
   "id": "8c9685c3cc08090c",
   "metadata": {},
   "source": [
    "### 4.10 Product Revenue Analysis <a id=4.10><a/>\n",
    "While high sales quantity often correlates with high revenue, this analysis helps identify the most profitable items not just the most frequently sold ones."
   ]
  },
  {
   "cell_type": "markdown",
   "id": "88162e8371205f01",
   "metadata": {},
   "source": [
    "#### 4.10.1 Most Expensive Products on Average <a id=4.10.1><a/>"
   ]
  },
  {
   "cell_type": "code",
   "execution_count": 278,
   "id": "a7351792d7446ed8",
   "metadata": {
    "ExecuteTime": {
     "end_time": "2025-10-31T20:14:13.308489Z",
     "start_time": "2025-10-31T20:14:13.295075Z"
    }
   },
   "outputs": [
    {
     "name": "stdout",
     "output_type": "stream",
     "text": [
      "product_type\n",
      "Premium Beans            34.028274\n",
      "Clothing                 27.886878\n",
      "Organic Beans            20.287952\n",
      "Gourmet Beans            18.573770\n",
      "House blend Beans        18.000000\n",
      "Espresso Beans           17.430251\n",
      "Housewares               13.448669\n",
      "Drinking Chocolate       10.255789\n",
      "Green beans              10.000000\n",
      "Chai tea                  9.709368\n",
      "Green tea                 9.250000\n",
      "Black tea                 8.950000\n",
      "Herbal tea                8.950000\n",
      "Organic Chocolate         7.600000\n",
      "Hot chocolate             4.148827\n",
      "Pastry                    3.685979\n",
      "Barista Espresso          3.655200\n",
      "Scone                     3.534638\n",
      "Biscotti                  3.419503\n",
      "Premium brewed coffee     3.122452\n",
      "Brewed Chai tea           2.936993\n",
      "Organic brewed coffee     2.898021\n",
      "Brewed herbal tea         2.744731\n",
      "Brewed Black tea          2.744670\n",
      "Brewed Green tea          2.742462\n",
      "Gourmet brewed coffee     2.696641\n",
      "Drip coffee               2.484959\n",
      "Sugar free syrup          0.800000\n",
      "Regular syrup             0.800000\n",
      "Name: unit_price, dtype: float64\n"
     ]
    }
   ],
   "source": [
    "product_prices = data.groupby('product_type')['unit_price'].mean().sort_values(ascending=False)\n",
    "print(product_prices)"
   ]
  },
  {
   "cell_type": "code",
   "execution_count": null,
   "id": "44f3adb38980734c",
   "metadata": {},
   "outputs": [],
   "source": [
    "plt.figure(figsize=(18,6))\n",
    "ax = sns.barplot(x=product_prices.index, y=product_prices.values, color='deepskyblue')\n",
    "ax.bar_label(ax.containers[0], fmt='%.2f')\n",
    "plt.title(\"Product Types Average Price\")\n",
    "plt.xlabel(\"Average Price ($)\")\n",
    "plt.ylabel(\"Product Type\")\n",
    "plt.xticks(rotation=75)\n",
    "plt.show()"
   ]
  },
  {
   "cell_type": "markdown",
   "id": "6947fddddfe21b",
   "metadata": {},
   "source": [
    "#### 4.10.2 Revenue by product category <a id=4.10.2><a/>"
   ]
  },
  {
   "cell_type": "code",
   "execution_count": 279,
   "id": "50a24804777a419d",
   "metadata": {
    "ExecuteTime": {
     "end_time": "2025-10-31T20:14:16.032439Z",
     "start_time": "2025-10-31T20:14:16.019213Z"
    }
   },
   "outputs": [
    {
     "name": "stdout",
     "output_type": "stream",
     "text": [
      "     product_category  total_revenue\n",
      "0              Coffee      269952.45\n",
      "1                 Tea      196405.95\n",
      "2              Bakery       82315.64\n",
      "3  Drinking Chocolate       72416.00\n",
      "4        Coffee beans       40085.25\n",
      "5             Branded       13607.00\n",
      "6           Loose Tea       11213.60\n",
      "7            Flavours        8408.80\n",
      "8  Packaged Chocolate        4407.64\n"
     ]
    }
   ],
   "source": [
    "revenue_category = data.groupby('product_category')['total_revenue'].sum().sort_values(ascending=False).reset_index()\n",
    "print(revenue_category)"
   ]
  },
  {
   "cell_type": "code",
   "execution_count": null,
   "id": "c85e6b71a50215f",
   "metadata": {},
   "outputs": [],
   "source": [
    "plt.figure(figsize=(10,5))\n",
    "ax = sns.barplot(x=\"product_category\", y=\"total_revenue\", data=revenue_category, color=\"deepskyblue\")\n",
    "ax.bar_label(ax.containers[0])\n",
    "plt.title(\"Revenue per Product Category\")\n",
    "plt.xlabel(\"Product Category\")\n",
    "plt.ylabel(\"Revenue\")\n",
    "plt.xticks(rotation=45)\n",
    "plt.show()"
   ]
  },
  {
   "cell_type": "markdown",
   "id": "7de193a77b1dd3bd",
   "metadata": {},
   "source": [
    "#### 4.10.3 Revenue by product type <a id=4.10.3><a/>"
   ]
  },
  {
   "cell_type": "code",
   "execution_count": 280,
   "id": "a52bc2451266d4c0",
   "metadata": {
    "ExecuteTime": {
     "end_time": "2025-10-31T20:14:17.858971Z",
     "start_time": "2025-10-31T20:14:17.844751Z"
    }
   },
   "outputs": [
    {
     "name": "stdout",
     "output_type": "stream",
     "text": [
      "             product_type  total_revenue\n",
      "0        Barista Espresso       91406.20\n",
      "1         Brewed Chai tea       77081.95\n",
      "2           Hot chocolate       72416.00\n",
      "3   Gourmet brewed coffee       70034.60\n",
      "4        Brewed Black tea       47932.00\n",
      "5       Brewed herbal tea       47539.50\n",
      "6   Premium brewed coffee       38781.15\n",
      "7   Organic brewed coffee       37746.50\n",
      "8                   Scone       36866.12\n",
      "9             Drip coffee       31984.00\n",
      "10                 Pastry       25655.99\n",
      "11       Brewed Green tea       23852.50\n",
      "12               Biscotti       19793.53\n",
      "13          Premium Beans       14583.50\n",
      "14          Organic Beans        8509.50\n",
      "15             Housewares        7444.00\n",
      "16          Gourmet Beans        6798.00\n",
      "17               Clothing        6163.00\n",
      "18          Regular syrup        6084.80\n",
      "19         Espresso Beans        5560.25\n",
      "20               Chai tea        4301.25\n",
      "21      House blend Beans        3294.00\n",
      "22             Herbal tea        2729.75\n",
      "23     Drinking Chocolate        2728.04\n",
      "24              Black tea        2711.85\n",
      "25       Sugar free syrup        2324.00\n",
      "26      Organic Chocolate        1679.60\n",
      "27              Green tea        1470.75\n",
      "28            Green beans        1340.00\n"
     ]
    }
   ],
   "source": [
    "revenue_type = data.groupby('product_type')['total_revenue'].sum().sort_values(ascending=False).reset_index()\n",
    "print(revenue_type)"
   ]
  },
  {
   "cell_type": "code",
   "execution_count": null,
   "id": "efbaa979f132d8a",
   "metadata": {},
   "outputs": [],
   "source": [
    "plt.figure(figsize=(24,6))\n",
    "ax = sns.barplot(x=\"product_type\", y=\"total_revenue\", data=revenue_type, color=\"deepskyblue\")\n",
    "ax.bar_label(ax.containers[0], fmt='%.2f')\n",
    "plt.title(\"Revenue per Product Type\")\n",
    "plt.xlabel(\"Product Type\")\n",
    "plt.ylabel(\"Revenue\")\n",
    "plt.xticks(rotation=90)\n",
    "plt.show()"
   ]
  },
  {
   "cell_type": "markdown",
   "id": "d83bfb0cb737650b",
   "metadata": {},
   "source": [
    "###### Above we see exactly what revenue each product type brings to the cafe."
   ]
  },
  {
   "cell_type": "markdown",
   "id": "251f4ee713ae8eb4",
   "metadata": {},
   "source": [
    "#### 4.10.4 Revenue by product category in each store location <a id=4.10.4><a/>"
   ]
  },
  {
   "cell_type": "code",
   "execution_count": 281,
   "id": "dfdb34a263908b9a",
   "metadata": {
    "ExecuteTime": {
     "end_time": "2025-10-31T20:14:21.182433Z",
     "start_time": "2025-10-31T20:14:21.157582Z"
    }
   },
   "outputs": [
    {
     "name": "stdout",
     "output_type": "stream",
     "text": [
      "     store_location    product_category  total_revenue\n",
      "2           Astoria              Coffee       89744.30\n",
      "8           Astoria                 Tea       67839.90\n",
      "0           Astoria              Bakery       26599.75\n",
      "4           Astoria  Drinking Chocolate       26335.25\n",
      "3           Astoria        Coffee beans       10219.20\n",
      "1           Astoria             Branded        5457.00\n",
      "6           Astoria           Loose Tea        3194.00\n",
      "5           Astoria            Flavours        1764.80\n",
      "7           Astoria  Packaged Chocolate        1089.71\n",
      "11   Hell's Kitchen              Coffee       91222.65\n",
      "17   Hell's Kitchen                 Tea       64701.30\n",
      "9    Hell's Kitchen              Bakery       27386.95\n",
      "13   Hell's Kitchen  Drinking Chocolate       23586.25\n",
      "12   Hell's Kitchen        Coffee beans       18635.10\n",
      "15   Hell's Kitchen           Loose Tea        4461.35\n",
      "14   Hell's Kitchen            Flavours        2876.80\n",
      "10   Hell's Kitchen             Branded        1942.00\n",
      "16   Hell's Kitchen  Packaged Chocolate        1698.77\n",
      "20  Lower Manhattan              Coffee       88985.50\n",
      "26  Lower Manhattan                 Tea       63864.75\n",
      "18  Lower Manhattan              Bakery       28328.94\n",
      "22  Lower Manhattan  Drinking Chocolate       22494.50\n",
      "21  Lower Manhattan        Coffee beans       11230.95\n",
      "19  Lower Manhattan             Branded        6208.00\n",
      "23  Lower Manhattan            Flavours        3767.20\n",
      "24  Lower Manhattan           Loose Tea        3558.25\n",
      "25  Lower Manhattan  Packaged Chocolate        1619.16\n"
     ]
    }
   ],
   "source": [
    "rlc = data.groupby(['store_location', 'product_category'])['total_revenue'].sum().reset_index().sort_values(['store_location', 'total_revenue'], ascending=[True, False])\n",
    "print(rlc)"
   ]
  },
  {
   "cell_type": "code",
   "execution_count": null,
   "id": "66648f978e37025f",
   "metadata": {},
   "outputs": [],
   "source": [
    "plt.figure(figsize=(15, 6))\n",
    "sns.barplot(x='store_location', y='total_revenue', data=rlc, hue='product_category', palette='Blues')\n",
    "plt.title(\"Revenue By Location & Category\")\n",
    "plt.xlabel(\"Store Location\")\n",
    "plt.ylabel(\"Revenue\")\n",
    "plt.show()"
   ]
  },
  {
   "cell_type": "markdown",
   "id": "1411cbf08d6786b2",
   "metadata": {},
   "source": [
    "###### In all three locations the most profitable products are **coffee** and **tea** followed by **bakery goods** and **drinking chocolate**. These products are lower in price than others (such as coffee beans and merch) but dominate in **volume** and **frequency**."
   ]
  },
  {
   "cell_type": "markdown",
   "id": "4accdb5b774841b6",
   "metadata": {},
   "source": [
    "### 4.10.5 Top 10 Products by: Revenue, Quantity Sold and Transactions <a id=4.10.5><a/>"
   ]
  },
  {
   "cell_type": "code",
   "execution_count": 282,
   "id": "7172123d940d3cf4",
   "metadata": {
    "ExecuteTime": {
     "end_time": "2025-10-31T20:14:28.141603Z",
     "start_time": "2025-10-31T20:14:28.128466Z"
    }
   },
   "outputs": [
    {
     "name": "stdout",
     "output_type": "stream",
     "text": [
      "product_type\n",
      "Brewed Chai tea          17183\n",
      "Gourmet brewed coffee    16912\n",
      "Barista Espresso         16403\n",
      "Hot chocolate            11468\n",
      "Brewed Black tea         11350\n",
      "Brewed herbal tea        11245\n",
      "Scone                    10173\n",
      "Organic brewed coffee     8489\n",
      "Drip coffee               8477\n",
      "Premium brewed coffee     8135\n",
      "Name: count, dtype: int64\n"
     ]
    }
   ],
   "source": [
    "#transaction data\n",
    "ptype_tx = data['product_type'].value_counts().head(10)\n",
    "print(ptype_tx)"
   ]
  },
  {
   "cell_type": "code",
   "execution_count": 283,
   "id": "24f911556cfc009d",
   "metadata": {
    "ExecuteTime": {
     "end_time": "2025-10-31T20:14:28.170159Z",
     "start_time": "2025-10-31T20:14:28.156557Z"
    }
   },
   "outputs": [
    {
     "name": "stdout",
     "output_type": "stream",
     "text": [
      "product_type\n",
      "Brewed Chai tea          26250\n",
      "Gourmet brewed coffee    25973\n",
      "Barista Espresso         24943\n",
      "Brewed Black tea         17462\n",
      "Hot chocolate            17457\n",
      "Brewed herbal tea        17328\n",
      "Organic brewed coffee    13012\n",
      "Drip coffee              12891\n",
      "Premium brewed coffee    12431\n",
      "Scone                    10465\n",
      "Name: transaction_qty, dtype: int64\n"
     ]
    }
   ],
   "source": [
    "#quantity data\n",
    "ptype_qty = data.groupby('product_type')['transaction_qty'].sum().sort_values(ascending=False).head(10)\n",
    "print(ptype_qty)"
   ]
  },
  {
   "cell_type": "code",
   "execution_count": 284,
   "id": "dce584a07150802e",
   "metadata": {
    "ExecuteTime": {
     "end_time": "2025-10-31T20:14:28.223263Z",
     "start_time": "2025-10-31T20:14:28.208954Z"
    }
   },
   "outputs": [
    {
     "name": "stdout",
     "output_type": "stream",
     "text": [
      "product_type\n",
      "Barista Espresso         91406.20\n",
      "Brewed Chai tea          77081.95\n",
      "Hot chocolate            72416.00\n",
      "Gourmet brewed coffee    70034.60\n",
      "Brewed Black tea         47932.00\n",
      "Brewed herbal tea        47539.50\n",
      "Premium brewed coffee    38781.15\n",
      "Organic brewed coffee    37746.50\n",
      "Scone                    36866.12\n",
      "Drip coffee              31984.00\n",
      "Name: total_revenue, dtype: float64\n"
     ]
    }
   ],
   "source": [
    "#revenue data\n",
    "ptype_revenue = data.groupby('product_type')['total_revenue'].sum().sort_values(ascending=False).head(10)\n",
    "print(ptype_revenue)"
   ]
  },
  {
   "cell_type": "code",
   "execution_count": null,
   "id": "2e96a357a3e654eb",
   "metadata": {},
   "outputs": [],
   "source": [
    "#Plot\n",
    "plt.figure(figsize=(18, 6))\n",
    "\n",
    "#transactions\n",
    "plt.subplot(1, 3, 1)\n",
    "sns.barplot(x=ptype_tx.values, y=ptype_tx.index, color='deepskyblue')\n",
    "plt.title(\"Top 10 Product Types by Transactions\")\n",
    "plt.xlabel(\"Number of Transactions\")\n",
    "plt.ylabel(\"Product Type\")\n",
    "\n",
    "#quantity\n",
    "plt.subplot(1, 3, 2)\n",
    "sns.barplot(x=ptype_qty.values, y=ptype_qty.index, color='skyblue')\n",
    "plt.title(\"Top 10 Product Types by Quantity Sold\")\n",
    "plt.xlabel(\"Total Quantity Sold\")\n",
    "plt.ylabel(\"Product Type\")\n",
    "\n",
    "#total revenue\n",
    "plt.subplot(1, 3, 3)\n",
    "sns.barplot(x=ptype_revenue.values, y=ptype_revenue.index, color='lightskyblue')\n",
    "plt.title(\"Top 10 Products by Total Revenue\")\n",
    "plt.xlabel(\"Total Revenue ($)\")\n",
    "plt.ylabel(\"Product Type\")\n",
    "\n",
    "#layout\n",
    "plt.suptitle(\"Comparison of Top 10 Product Types\", fontsize=14)\n",
    "plt.tight_layout(rect=[0, 0, 1, 0.95])\n",
    "plt.show()"
   ]
  },
  {
   "cell_type": "markdown",
   "id": "71863c9b36b996c6",
   "metadata": {},
   "source": [
    "#### Brewed Chai Tea and Gourmet Coffee have the highest number of transactions and quantities sold, but Barista Espresso leads in revenue"
   ]
  },
  {
   "cell_type": "markdown",
   "id": "7f8f5cc038e50157",
   "metadata": {},
   "source": [
    "### 4.10.6 Hourly Revenue in each Store Location <a id=4.10.6><a/>"
   ]
  },
  {
   "cell_type": "code",
   "execution_count": 285,
   "id": "1020a617cbf3c03e",
   "metadata": {
    "ExecuteTime": {
     "end_time": "2025-10-31T20:14:35.006774Z",
     "start_time": "2025-10-31T20:14:34.981025Z"
    }
   },
   "outputs": [
    {
     "name": "stdout",
     "output_type": "stream",
     "text": [
      "    transaction_hour   store_location  total_revenue\n",
      "11                10          Astoria       24426.12\n",
      "8                  9          Astoria       23183.57\n",
      "5                  8          Astoria       22805.90\n",
      "2                  7          Astoria       19028.80\n",
      "38                19          Astoria       16943.65\n",
      "29                16          Astoria       16110.85\n",
      "35                18          Astoria       15951.30\n",
      "20                13          Astoria       15947.87\n",
      "32                17          Astoria       15839.30\n",
      "17                12          Astoria       15681.20\n",
      "26                15          Astoria       15651.95\n",
      "14                11          Astoria       15498.13\n",
      "23                14          Astoria       15175.27\n",
      "12                10   Hell's Kitchen       33605.81\n",
      "9                  9   Hell's Kitchen       32874.29\n",
      "6                  8   Hell's Kitchen       31544.44\n",
      "15                11   Hell's Kitchen       17926.54\n",
      "3                  7   Hell's Kitchen       15961.05\n",
      "33                17   Hell's Kitchen       12789.50\n",
      "24                14   Hell's Kitchen       12297.50\n",
      "21                13   Hell's Kitchen       12070.10\n",
      "30                16   Hell's Kitchen       11990.48\n",
      "36                18   Hell's Kitchen       11863.21\n",
      "18                12   Hell's Kitchen       11343.10\n",
      "27                15   Hell's Kitchen       11311.25\n",
      "39                19   Hell's Kitchen       10766.36\n",
      "0                  6   Hell's Kitchen        7531.17\n",
      "41                20   Hell's Kitchen        2636.37\n",
      "13                10  Lower Manhattan       30641.46\n",
      "10                 9  Lower Manhattan       29111.67\n",
      "4                  7  Lower Manhattan       28536.62\n",
      "7                  8  Lower Manhattan       28349.53\n",
      "28                15  Lower Manhattan       14769.90\n",
      "1                  6  Lower Manhattan       14369.10\n",
      "25                14  Lower Manhattan       13831.97\n",
      "19                12  Lower Manhattan       13168.49\n",
      "31                16  Lower Manhattan       13021.42\n",
      "16                11  Lower Manhattan       12894.47\n",
      "22                13  Lower Manhattan       12349.48\n",
      "34                17  Lower Manhattan       11505.51\n",
      "37                18  Lower Manhattan        6471.69\n",
      "40                19  Lower Manhattan         736.67\n",
      "42                20  Lower Manhattan         299.27\n"
     ]
    }
   ],
   "source": [
    "hourly_revenue = data.groupby(['transaction_hour', 'store_location'])['total_revenue'].sum().reset_index().sort_values(['store_location', 'total_revenue'], ascending=[True, False])\n",
    "print(hourly_revenue)"
   ]
  },
  {
   "cell_type": "code",
   "execution_count": null,
   "id": "e3b7228a3aa91f4b",
   "metadata": {},
   "outputs": [],
   "source": [
    "plt.figure(figsize=(12,6))\n",
    "sns.barplot(x='transaction_hour', y='total_revenue', hue='store_location', data=hourly_revenue, palette='Blues', estimator=sum)\n",
    "plt.title(\"Total Revenue by Hour per Store Location\")\n",
    "plt.xlabel(\"Hour of Day\")\n",
    "plt.ylabel(\"Total Revenue ($)\")\n",
    "plt.legend(title='Store Location')\n",
    "plt.show()"
   ]
  },
  {
   "cell_type": "markdown",
   "id": "a7a50d59a96c733e",
   "metadata": {},
   "source": [
    "###### In all three stores the most revenue is generated in the morning hours (7:00-10:00). The store located in Astoria opens at 7:00 in contrast to the other two which open at 6:00 but maintains higher revenue throughout the day."
   ]
  },
  {
   "cell_type": "markdown",
   "id": "aa9f90b1846dba11",
   "metadata": {},
   "source": [
    "### 4.10.7 Trend of Total Revenue Over Time <a id=4.10.7><a/>\n",
    "\n",
    "This plot shows the daily total revenue for the franchise over the recorded period. It helps us identify peak revenue days/seasons and weekly patterns."
   ]
  },
  {
   "cell_type": "code",
   "execution_count": 286,
   "id": "8e38896bb0030ffc",
   "metadata": {
    "ExecuteTime": {
     "end_time": "2025-10-31T20:14:49.590281Z",
     "start_time": "2025-10-31T20:14:49.581141Z"
    }
   },
   "outputs": [],
   "source": [
    "daily_revenue = data.groupby('transaction_date')['total_revenue'].sum().reset_index()"
   ]
  },
  {
   "cell_type": "code",
   "execution_count": null,
   "id": "9c5d41c01b686ea2",
   "metadata": {},
   "outputs": [],
   "source": [
    "# Plot\n",
    "plt.figure(figsize=(14,6))\n",
    "sns.lineplot(x='transaction_date', y='total_revenue', data=daily_revenue, marker='o', color='deepskyblue')\n",
    "plt.title(\"Trend of Total Revenue Over Time\")\n",
    "plt.xlabel(\"Date\")\n",
    "plt.ylabel(\"Total Revenue\")\n",
    "plt.xticks(rotation=45)\n",
    "plt.tight_layout()\n",
    "plt.show()"
   ]
  },
  {
   "cell_type": "markdown",
   "id": "cc6aad6f20a97c19",
   "metadata": {},
   "source": [
    "### 4.11 Relationship Between Unit Price, Transaction Quantity, and Total Revenue <a id=4.11><a/>\n",
    "\n",
    "In this section, we explore how the variables *transaction quantity*, *unit price* and *total revenue* are related. We start by checking their distribution, skewness and kurtosis."
   ]
  },
  {
   "cell_type": "code",
   "execution_count": 287,
   "id": "455d1da31013e279",
   "metadata": {
    "ExecuteTime": {
     "end_time": "2025-10-31T20:14:54.050670Z",
     "start_time": "2025-10-31T20:14:54.033305Z"
    }
   },
   "outputs": [
    {
     "name": "stdout",
     "output_type": "stream",
     "text": [
      "Skewness:  0.7998110703421891\n",
      "Kurtosis:  0.823624549796508\n",
      "Mean:  1.438276241315486\n",
      "Median:  1.0\n"
     ]
    }
   ],
   "source": [
    "#Transaction qty\n",
    "skew1 = skew(data['transaction_qty'])\n",
    "kurt1 = kurtosis(data['transaction_qty'])\n",
    "mean1 = data['transaction_qty'].mean()\n",
    "median1 = data['transaction_qty'].median()\n",
    "print(\"Skewness: \", skew1)\n",
    "print(\"Kurtosis: \", kurt1)\n",
    "print(\"Mean: \", mean1)\n",
    "print(\"Median: \", median1)"
   ]
  },
  {
   "cell_type": "markdown",
   "id": "7224cccde03882c4",
   "metadata": {},
   "source": [
    "###### Mean: The mean transaction quantity is approximately 1.44, indicating that on average, each transaction involves slightly more than 1 product unit.\n",
    "\n",
    "###### Median: The median is 1 meaning that half of all transactions involve only a single product unit.\n",
    "\n",
    "###### Skewness: A skewness of 0.80 indicates a moderate positive skew, showing that some transactions include larger quantities while the majority are small (1–2 units).\n",
    "\n",
    "###### Kurtosis: A kurtosis of 0.82 suggests the distribution is slightly more peaked than a normal distribution but nothing extreme.\n",
    "\n",
    "###### Most transactions consist of small quantities with some bigger purchases at times."
   ]
  },
  {
   "cell_type": "code",
   "execution_count": 288,
   "id": "345d599e1679a142",
   "metadata": {
    "ExecuteTime": {
     "end_time": "2025-10-31T20:14:55.708423Z",
     "start_time": "2025-10-31T20:14:55.693521Z"
    }
   },
   "outputs": [
    {
     "name": "stdout",
     "output_type": "stream",
     "text": [
      "Skewness:  8.455002576876039\n",
      "Kurtosis:  98.9160540316902\n",
      "Mean:  1.438276241315486\n",
      "Median:  1.0\n"
     ]
    }
   ],
   "source": [
    "#Unit price\n",
    "skew2 = skew(data['unit_price'])\n",
    "kurt2 = kurtosis(data['unit_price'])\n",
    "mean2 = data['transaction_qty'].mean()\n",
    "median2 = data['transaction_qty'].median()\n",
    "print(\"Skewness: \", skew2)\n",
    "print(\"Kurtosis: \", kurt2)\n",
    "print(\"Mean: \", mean2)\n",
    "print(\"Median: \", median2)"
   ]
  },
  {
   "cell_type": "markdown",
   "id": "1160e8c31d9c2a8f",
   "metadata": {},
   "source": [
    "###### Mean: The average price per product is $3.38.\n",
    "\n",
    "###### Median: The median is $3.00, meaning half of the products are priced below this and half above.\n",
    "\n",
    "###### Skewness: A skewness of 8.46 indicates a strong positive skew, showing that most products are low to mid-priced, with a few high-priced items stretching the distribution to the right.\n",
    "\n",
    "###### Kurtosis: A kurtosis of 98.92 shows that we have very heavy tails and extreme outliers, meaning that some products are sold at unusually high prices compared to the majority of the dataset.\n",
    "\n",
    "###### The pricing distribution is heavily right-skewed. Some higher priced products significantly influence the mean, while most items cluster around the lower price range."
   ]
  },
  {
   "cell_type": "code",
   "execution_count": 289,
   "id": "5e312769e782eb1b",
   "metadata": {
    "ExecuteTime": {
     "end_time": "2025-10-31T20:14:57.641800Z",
     "start_time": "2025-10-31T20:14:57.626953Z"
    }
   },
   "outputs": [
    {
     "name": "stdout",
     "output_type": "stream",
     "text": [
      "Skewness:  41.74547945699711\n",
      "Kurtosis:  3359.6418936320524\n",
      "Mean:  4.6863671906435265\n",
      "Median:  3.75\n"
     ]
    }
   ],
   "source": [
    "#Total Revenue\n",
    "skew3 = skew(data['total_revenue'])\n",
    "kurt3 = kurtosis(data['total_revenue'])\n",
    "mean3 = data['total_revenue'].mean()\n",
    "median3 = data['total_revenue'].median()\n",
    "print(\"Skewness: \", skew3)\n",
    "print(\"Kurtosis: \", kurt3)\n",
    "print(\"Mean: \", mean3)\n",
    "print(\"Median: \", median3)"
   ]
  },
  {
   "cell_type": "markdown",
   "id": "c746f46d3e56ec85",
   "metadata": {},
   "source": [
    "###### Mean: On average each transaction generates a revenue of $4.69.\n",
    "\n",
    "###### Median: The median is $3.75, meaning that half of the transactions generate less than this amount.\n",
    "\n",
    "###### Skewness: A very high skewness of 41.75 indicates an extremely right-skewed distribution caused by some very high-revenue transactions.\n",
    "\n",
    "###### Kurtosis: A kurtosis of 3359.64 indicates extremely heavy tails and extreme outliers.\n",
    "\n",
    "###### Most transactions generate low to moderate revenue, but a small number of high-value transactions heavily influence the overall distribution."
   ]
  },
  {
   "cell_type": "code",
   "execution_count": null,
   "id": "d7ca47d0f52b99b9",
   "metadata": {},
   "outputs": [],
   "source": [
    "plt.figure(figsize=(14,5))\n",
    "#Transaction Qty\n",
    "plt.subplot(1, 2, 1)\n",
    "sns.boxplot(x=data['transaction_qty'], color='deepskyblue')\n",
    "plt.title('Boxplot of Transaction Quantity')\n",
    "\n",
    "#Unit Price\n",
    "plt.subplot(1, 2, 2)\n",
    "sns.boxplot(x=data['unit_price'], color='skyblue')\n",
    "plt.title('Boxplot of Unit Price')"
   ]
  },
  {
   "cell_type": "markdown",
   "id": "7f72abb0640bc748",
   "metadata": {},
   "source": [
    "##### Most transactions involve 1–2 items with a few higher-quantity outliers. Prices are mainly low with several high-value outliers indicating right skewness."
   ]
  },
  {
   "cell_type": "code",
   "execution_count": null,
   "id": "3b29a85a28752522",
   "metadata": {},
   "outputs": [],
   "source": [
    "sns.boxplot(x=data['total_revenue'], color='lightskyblue')\n",
    "plt.title('Boxplot of Total Revenue')"
   ]
  },
  {
   "cell_type": "markdown",
   "id": "a086ada1a68d9cbf",
   "metadata": {},
   "source": [
    "##### Strongly right-skewed distribution with most transactions generating low revenue and a few very large ones."
   ]
  },
  {
   "cell_type": "code",
   "execution_count": null,
   "id": "4deeea6099cf9801",
   "metadata": {},
   "outputs": [],
   "source": [
    "#Plots for distribution analysis\n",
    "plt.figure(figsize=(15,5))\n",
    "#Transaction Qty\n",
    "plt.subplot(1, 3, 1)\n",
    "sns.histplot(data['transaction_qty'], bins=20, kde=True, color='deepskyblue')\n",
    "plt.title('Distribution of Transaction Quantity')\n",
    "plt.xlabel('Transaction Quantity')\n",
    "plt.ylabel('Frequency')\n",
    "#Unit Price\n",
    "plt.subplot(1, 3, 2)\n",
    "sns.histplot(data['unit_price'], bins=20, kde=True, color='skyblue')\n",
    "plt.title('Distribution of Unit Price')\n",
    "plt.xlabel('Unit Price')\n",
    "plt.ylabel('Frequency')\n",
    "#Total Revenue\n",
    "plt.subplot(1, 3, 3)\n",
    "sns.histplot(data['total_revenue'], bins=20, kde=True, color='lightskyblue')\n",
    "plt.title('Distribution of Total Revenue')\n",
    "plt.xlabel('Total Revenue')\n",
    "plt.ylabel('Frequency')\n",
    "\n",
    "plt.tight_layout()\n",
    "plt.show()"
   ]
  },
  {
   "cell_type": "markdown",
   "id": "22910c4872652d78",
   "metadata": {},
   "source": [
    "##### From the above plots (boxplot, density plots) we see that the variables **unit_price**, **transaction_qty** and **total_revenue** are not normally distributed, so we will Spearman's non-parametric correlation test."
   ]
  },
  {
   "cell_type": "code",
   "execution_count": 290,
   "id": "3f3a55d089e43e31",
   "metadata": {
    "ExecuteTime": {
     "end_time": "2025-10-31T20:15:02.979966Z",
     "start_time": "2025-10-31T20:15:02.938407Z"
    }
   },
   "outputs": [
    {
     "name": "stdout",
     "output_type": "stream",
     "text": [
      "                 transaction_qty  unit_price  total_revenue\n",
      "transaction_qty         1.000000   -0.160442       0.680296\n",
      "unit_price             -0.160442    1.000000       0.529418\n",
      "total_revenue           0.680296    0.529418       1.000000\n"
     ]
    }
   ],
   "source": [
    "corr = data[['transaction_qty', 'unit_price', 'total_revenue']].corr(method='spearman')\n",
    "print(corr)"
   ]
  },
  {
   "cell_type": "markdown",
   "id": "32deeca552850f23",
   "metadata": {},
   "source": [
    "##### Spearman Correlation Between Quantity, Unit Price, and Total Revenue\n",
    "\n",
    "###### - **Transaction Quantity vs. Total Revenue:** ρ ≈ 0.68: Moderate positive correlation which indicates that higher quantities generally drive higher revenue.\n",
    "###### - **Unit Price vs. Total Revenue:** ρ ≈ 0.53: Moderate positive correlation which indicates that expensive items contribute significantly to revenue.\n",
    "###### - **Transaction Quantity vs. Unit Price:** ρ ≈ -0.16: Slight negative correlation which indicates that higher priced items tend to be purchased in smaller quantities.\n",
    "\n",
    "The heatmap below visualizes these relationships clearly."
   ]
  },
  {
   "cell_type": "code",
   "execution_count": null,
   "id": "fa23a7b7778d66ae",
   "metadata": {},
   "outputs": [],
   "source": [
    "plt.figure(figsize=(6,5))\n",
    "sns.heatmap(corr, annot=True, cmap='Blues', fmt=\".2f\")\n",
    "plt.title(\"Spearman Correlation Between Quantity, Price, Revenue\")\n",
    "plt.show()"
   ]
  },
  {
   "cell_type": "code",
   "execution_count": null,
   "id": "bd1abefa-f769-4a23-96b1-dd062a8732fd",
   "metadata": {},
   "outputs": [],
   "source": []
  }
 ],
 "metadata": {
  "kernelspec": {
   "display_name": "Python 3 (ipykernel)",
   "language": "python",
   "name": "python3"
  },
  "language_info": {
   "codemirror_mode": {
    "name": "ipython",
    "version": 3
   },
   "file_extension": ".py",
   "mimetype": "text/x-python",
   "name": "python",
   "nbconvert_exporter": "python",
   "pygments_lexer": "ipython3",
   "version": "3.14.0"
  }
 },
 "nbformat": 4,
 "nbformat_minor": 5
}
